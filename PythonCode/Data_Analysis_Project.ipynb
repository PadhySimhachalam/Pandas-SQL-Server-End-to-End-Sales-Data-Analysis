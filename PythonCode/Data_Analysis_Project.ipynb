{
 "cells": [
  {
   "cell_type": "code",
   "execution_count": 23,
   "id": "1ef814c9-055c-463b-8e5a-3fb737b0aec9",
   "metadata": {},
   "outputs": [
    {
     "name": "stdout",
     "output_type": "stream",
     "text": [
      "    Order Id  Order Date       Ship Mode      Segment        Country  \\\n",
      "0          1  2023-03-01    Second Class     Consumer  United States   \n",
      "1          2  2023-08-15    Second Class     Consumer  United States   \n",
      "2          3  2023-01-10    Second Class    Corporate  United States   \n",
      "3          4  2022-06-18  Standard Class     Consumer  United States   \n",
      "4          5  2022-07-13  Standard Class     Consumer  United States   \n",
      "5          6  2022-03-13             NaN     Consumer  United States   \n",
      "6          7  2022-12-28  Standard Class     Consumer  United States   \n",
      "7          8  2022-01-25  Standard Class     Consumer  United States   \n",
      "8          9  2023-03-23             NaN     Consumer  United States   \n",
      "9         10  2023-05-16  Standard Class     Consumer  United States   \n",
      "10        11  2023-03-31             NaN     Consumer  United States   \n",
      "11        12  2023-12-25             NaN     Consumer  United States   \n",
      "12        13  2022-02-11  Standard Class     Consumer  United States   \n",
      "13        14  2023-07-18  Standard Class     Consumer  United States   \n",
      "14        15  2023-11-09             NaN  Home Office  United States   \n",
      "15        16  2022-06-18  Standard Class  Home Office  United States   \n",
      "16        17  2022-02-04  Standard Class     Consumer  United States   \n",
      "17        18  2023-08-04    Second Class     Consumer  United States   \n",
      "18        19  2022-01-23    Second Class     Consumer  United States   \n",
      "19        20  2022-01-11    Second Class     Consumer  United States   \n",
      "\n",
      "               City           State  Postal Code   Region         Category  \\\n",
      "0         Henderson        Kentucky        42420    South        Furniture   \n",
      "1         Henderson        Kentucky        42420    South        Furniture   \n",
      "2       Los Angeles      California        90036     West  Office Supplies   \n",
      "3   Fort Lauderdale         Florida        33311    South        Furniture   \n",
      "4   Fort Lauderdale         Florida        33311    South  Office Supplies   \n",
      "5       Los Angeles      California        90032     West        Furniture   \n",
      "6       Los Angeles      California        90032     West  Office Supplies   \n",
      "7       Los Angeles      California        90032     West       Technology   \n",
      "8       Los Angeles      California        90032     West  Office Supplies   \n",
      "9       Los Angeles      California        90032     West  Office Supplies   \n",
      "10      Los Angeles      California        90032     West        Furniture   \n",
      "11      Los Angeles      California        90032     West       Technology   \n",
      "12          Concord  North Carolina        28027    South  Office Supplies   \n",
      "13          Seattle      Washington        98103     West  Office Supplies   \n",
      "14       Fort Worth           Texas        76106  Central  Office Supplies   \n",
      "15       Fort Worth           Texas        76106  Central  Office Supplies   \n",
      "16          Madison       Wisconsin        53711  Central  Office Supplies   \n",
      "17      West Jordan            Utah        84084     West  Office Supplies   \n",
      "18    San Francisco      California        94109     West  Office Supplies   \n",
      "19    San Francisco      California        94109     West       Technology   \n",
      "\n",
      "   Sub Category       Product Id  cost price  List Price  Quantity  \\\n",
      "0     Bookcases  FUR-BO-10001798         240         260         2   \n",
      "1        Chairs  FUR-CH-10000454         600         730         3   \n",
      "2        Labels  OFF-LA-10000240          10          10         2   \n",
      "3        Tables  FUR-TA-10000577         780         960         5   \n",
      "4       Storage  OFF-ST-10000760          20          20         2   \n",
      "5   Furnishings  FUR-FU-10001487          50          50         7   \n",
      "6           Art  OFF-AR-10002833          10          10         4   \n",
      "7        Phones  TEC-PH-10002275         860         910         6   \n",
      "8       Binders  OFF-BI-10003910          20          20         3   \n",
      "9    Appliances  OFF-AP-10002892          90         110         5   \n",
      "10       Tables  FUR-TA-10001539        1470        1710         9   \n",
      "11       Phones  TEC-PH-10002033         750         910         4   \n",
      "12        Paper  OFF-PA-10002365          20          20         3   \n",
      "13      Binders  OFF-BI-10003656         360         410         3   \n",
      "14   Appliances  OFF-AP-10002311          60          70         5   \n",
      "15      Binders  OFF-BI-10000756           0           0         3   \n",
      "16      Storage  OFF-ST-10004186         610         670         6   \n",
      "17      Storage  OFF-ST-10000107          60          60         2   \n",
      "18          Art  OFF-AR-10003056          10          10         2   \n",
      "19       Phones  TEC-PH-10001949         170         210         3   \n",
      "\n",
      "    Discount Percent  \n",
      "0                  2  \n",
      "1                  3  \n",
      "2                  5  \n",
      "3                  2  \n",
      "4                  5  \n",
      "5                  3  \n",
      "6                  3  \n",
      "7                  5  \n",
      "8                  2  \n",
      "9                  3  \n",
      "10                 3  \n",
      "11                 3  \n",
      "12                 3  \n",
      "13                 2  \n",
      "14                 5  \n",
      "15                 5  \n",
      "16                 3  \n",
      "17                 4  \n",
      "18                 4  \n",
      "19                 3  \n"
     ]
    },
    {
     "data": {
      "text/plain": [
       "array(['Second Class', 'Standard Class', nan, 'First Class', 'Same Day'],\n",
       "      dtype=object)"
      ]
     },
     "execution_count": 23,
     "metadata": {},
     "output_type": "execute_result"
    }
   ],
   "source": [
    "#reading the file and handling the null\n",
    "import pandas as pd\n",
    "df = pd.read_csv('C:\\\\Users\\\\Lenovo\\\\orders.csv',na_values = ['Not Available','unknown'])\n",
    "print(df.head(20))\n",
    "\n",
    "df['Ship Mode'].unique()"
   ]
  },
  {
   "cell_type": "code",
   "execution_count": 26,
   "id": "91217962-db79-4916-befa-ce272e2bd5e3",
   "metadata": {},
   "outputs": [],
   "source": [
    "#modifying all the column names to lower case \n",
    "df.columns = df.columns.str.lower()\n",
    "df.columns= df.columns.str.replace(' ','_')"
   ]
  },
  {
   "cell_type": "code",
   "execution_count": 27,
   "id": "2d0a868a-319b-4161-beaf-5fc8b3ea21ed",
   "metadata": {},
   "outputs": [
    {
     "data": {
      "text/plain": [
       "Index(['order_id', 'order_date', 'ship_mode', 'segment', 'country', 'city',\n",
       "       'state', 'postal_code', 'region', 'category', 'sub_category',\n",
       "       'product_id', 'cost_price', 'list_price', 'quantity',\n",
       "       'discount_percent'],\n",
       "      dtype='object')"
      ]
     },
     "execution_count": 27,
     "metadata": {},
     "output_type": "execute_result"
    }
   ],
   "source": [
    "df.columns"
   ]
  },
  {
   "cell_type": "code",
   "execution_count": 30,
   "id": "a3a09d0f-9652-4e27-ba3e-50fe88987917",
   "metadata": {},
   "outputs": [],
   "source": [
    "#creating new columns dicount,sale_price and profit\n",
    "df['discount'] = df['list_price']*df['discount_percent']*0.01"
   ]
  },
  {
   "cell_type": "code",
   "execution_count": 32,
   "id": "b77e32d0-8d97-441c-acb7-3f3f069d70c3",
   "metadata": {},
   "outputs": [],
   "source": [
    "#sale_price\n",
    "df['sale_price'] = df['list_price']-df['discount']"
   ]
  },
  {
   "cell_type": "code",
   "execution_count": 34,
   "id": "f7c7ae77-4696-4551-8f2b-6729c3285ac7",
   "metadata": {},
   "outputs": [],
   "source": [
    "#profit\n",
    "df['profit'] = df['sale_price']-df['cost_price']"
   ]
  },
  {
   "cell_type": "code",
   "execution_count": 36,
   "id": "b092c4eb-bbc6-4e69-bb82-4179c95944b5",
   "metadata": {},
   "outputs": [],
   "source": [
    "#converting the datatype of orderdate from object to date datatype\n",
    "df['order_date'] = pd.to_datetime(df['order_date'],format = '%Y-%m-%d')"
   ]
  },
  {
   "cell_type": "code",
   "execution_count": null,
   "id": "e465f618-06d1-40e8-88c8-56603d3930ff",
   "metadata": {},
   "outputs": [],
   "source": [
    "#dropping list_price,cost_price,discount_percent columns from the data frame\n",
    "df.drop(columns = ['list_price','cost_price','discount_percent'],inplace = True)"
   ]
  },
  {
   "cell_type": "code",
   "execution_count": 49,
   "id": "3add6778-6b90-4a63-b603-652fc1cf224f",
   "metadata": {},
   "outputs": [],
   "source": [
    "#loading the data into sql server\n",
    "import sqlalchemy as sql\n",
    "connect_string = r\"mssql://DESKTOP-ILRIFTH\\SQLEXPRESS/master?driver=ODBC+DRIVER+17+FOR+SQL+SERVER\"\n",
    "data_conn = sql.create_engine(connect_string)\n",
    "conn = data_conn.connect()"
   ]
  },
  {
   "cell_type": "code",
   "execution_count": null,
   "id": "b8c287c1-9e7f-4d83-a2e0-485e83aec3ad",
   "metadata": {},
   "outputs": [],
   "source": [
    "df.to_sql('df_orders',con = conn,index = False,if_exists = 'append')"
   ]
  }
 ],
 "metadata": {
  "kernelspec": {
   "display_name": "Python 3 (ipykernel)",
   "language": "python",
   "name": "python3"
  },
  "language_info": {
   "codemirror_mode": {
    "name": "ipython",
    "version": 3
   },
   "file_extension": ".py",
   "mimetype": "text/x-python",
   "name": "python",
   "nbconvert_exporter": "python",
   "pygments_lexer": "ipython3",
   "version": "3.12.4"
  }
 },
 "nbformat": 4,
 "nbformat_minor": 5
}
